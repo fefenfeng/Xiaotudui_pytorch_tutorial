{
 "cells": [
  {
   "cell_type": "code",
   "execution_count": 1,
   "metadata": {
    "collapsed": true,
    "ExecuteTime": {
     "end_time": "2023-07-04T21:33:39.419634500Z",
     "start_time": "2023-07-04T21:33:38.859006Z"
    }
   },
   "outputs": [],
   "source": [
    "import torch"
   ]
  },
  {
   "cell_type": "code",
   "execution_count": 2,
   "outputs": [
    {
     "data": {
      "text/plain": "True"
     },
     "execution_count": 2,
     "metadata": {},
     "output_type": "execute_result"
    }
   ],
   "source": [
    "torch.cuda.is_available()"
   ],
   "metadata": {
    "collapsed": false,
    "ExecuteTime": {
     "end_time": "2023-07-04T21:33:48.742780400Z",
     "start_time": "2023-07-04T21:33:48.736968800Z"
    }
   }
  },
  {
   "cell_type": "code",
   "execution_count": 3,
   "outputs": [
    {
     "data": {
      "text/plain": "['AVG',\n 'AggregationType',\n 'AliasDb',\n 'AnyType',\n 'Argument',\n 'ArgumentSpec',\n 'BFloat16Storage',\n 'BFloat16Tensor',\n 'BenchmarkConfig',\n 'BenchmarkExecutionStats',\n 'Block',\n 'BoolStorage',\n 'BoolTensor',\n 'BoolType',\n 'BufferDict',\n 'ByteStorage',\n 'ByteTensor',\n 'CONV_BN_FUSION',\n 'CallStack',\n 'Callable',\n 'Capsule',\n 'CharStorage',\n 'CharTensor',\n 'ClassType',\n 'Code',\n 'CompilationUnit',\n 'CompleteArgumentSpec',\n 'ComplexDoubleStorage',\n 'ComplexFloatStorage',\n 'ComplexType',\n 'ConcreteModuleType',\n 'ConcreteModuleTypeBuilder',\n 'DeepCopyMemoTable',\n 'DeserializationStorageContext',\n 'DeviceObjType',\n 'DictType',\n 'DisableTorchFunction',\n 'DoubleStorage',\n 'DoubleTensor',\n 'EnumType',\n 'ErrorReport',\n 'ExecutionPlan',\n 'FUSE_ADD_RELU',\n 'FatalError',\n 'FileCheck',\n 'FloatStorage',\n 'FloatTensor',\n 'FloatType',\n 'FunctionSchema',\n 'Future',\n 'FutureType',\n 'Generator',\n 'Gradient',\n 'Graph',\n 'GraphExecutorState',\n 'HOIST_CONV_PACKED_PARAMS',\n 'HalfStorage',\n 'HalfTensor',\n 'INSERT_FOLD_PREPACK_OPS',\n 'IODescriptor',\n 'InferredType',\n 'IntStorage',\n 'IntTensor',\n 'IntType',\n 'InterfaceType',\n 'JITException',\n 'ListType',\n 'LiteScriptModule',\n 'LockingLogger',\n 'LoggerBase',\n 'LongStorage',\n 'LongTensor',\n 'MobileOptimizerType',\n 'ModuleDict',\n 'Node',\n 'NoneType',\n 'NoopLogger',\n 'NumberType',\n 'OperatorInfo',\n 'OptionalType',\n 'PRIVATE_OPS',\n 'ParameterDict',\n 'PyObjectType',\n 'PyTorchFileReader',\n 'PyTorchFileWriter',\n 'QInt32Storage',\n 'QInt8Storage',\n 'QUInt2x4Storage',\n 'QUInt4x2Storage',\n 'QUInt8Storage',\n 'REMOVE_DROPOUT',\n 'RRefType',\n 'SUM',\n 'ScriptClass',\n 'ScriptClassFunction',\n 'ScriptDict',\n 'ScriptDictIterator',\n 'ScriptDictKeyIterator',\n 'ScriptFunction',\n 'ScriptList',\n 'ScriptListIterator',\n 'ScriptMethod',\n 'ScriptModule',\n 'ScriptModuleSerializer',\n 'ScriptObject',\n 'ScriptObjectProperty',\n 'SerializationStorageContext',\n 'Set',\n 'ShortStorage',\n 'ShortTensor',\n 'Size',\n 'StaticModule',\n 'Storage',\n 'StorageBase',\n 'Stream',\n 'StreamObjType',\n 'StringType',\n 'SymIntType',\n 'TYPE_CHECKING',\n 'Tensor',\n 'TensorType',\n 'ThroughputBenchmark',\n 'TracingState',\n 'TupleType',\n 'Type',\n 'USE_GLOBAL_DEPS',\n 'USE_RTLD_GLOBAL_WITH_LIBTORCH',\n 'Union',\n 'UnionType',\n 'Use',\n 'Value',\n '_C',\n '_TypedStorage',\n '_UntypedStorage',\n '_VF',\n '__all__',\n '__annotations__',\n '__builtins__',\n '__cached__',\n '__config__',\n '__doc__',\n '__file__',\n '__future__',\n '__loader__',\n '__name__',\n '__package__',\n '__path__',\n '__spec__',\n '__version__',\n '_adaptive_avg_pool2d',\n '_adaptive_avg_pool3d',\n '_add_batch_dim',\n '_add_relu',\n '_add_relu_',\n '_addmm_activation',\n '_aminmax',\n '_amp_foreach_non_finite_check_and_unscale_',\n '_amp_update_scale_',\n '_assert',\n '_assert_async',\n '_batch_norm_impl_index',\n '_cast_Byte',\n '_cast_Char',\n '_cast_Double',\n '_cast_Float',\n '_cast_Half',\n '_cast_Int',\n '_cast_Long',\n '_cast_Short',\n '_choose_qparams_per_tensor',\n '_classes',\n '_coalesce',\n '_compute_linear_combination',\n '_conj',\n '_conj_copy',\n '_conj_physical',\n '_convert_indices_from_coo_to_csr',\n '_convert_indices_from_csr_to_coo',\n '_convolution',\n '_convolution_mode',\n '_copy_from',\n '_copy_from_and_resize',\n '_ctc_loss',\n '_cudnn_ctc_loss',\n '_cudnn_init_dropout_state',\n '_cudnn_rnn',\n '_cudnn_rnn_flatten_weight',\n '_cufft_clear_plan_cache',\n '_cufft_get_plan_cache_max_size',\n '_cufft_get_plan_cache_size',\n '_cufft_set_plan_cache_max_size',\n '_cummax_helper',\n '_cummin_helper',\n '_debug_has_internal_overlap',\n '_det_lu_based_helper',\n '_det_lu_based_helper_backward_helper',\n '_dim_arange',\n '_dirichlet_grad',\n '_disable_functionalization',\n '_efficientzerotensor',\n '_embedding_bag',\n '_embedding_bag_forward_only',\n '_empty_affine_quantized',\n '_empty_per_channel_affine_quantized',\n '_enable_functionalization',\n '_euclidean_dist',\n '_fake_quantize_learnable_per_channel_affine',\n '_fake_quantize_learnable_per_tensor_affine',\n '_fake_quantize_per_tensor_affine_cachemask_tensor_qparams',\n '_fft_c2c',\n '_fft_c2r',\n '_fft_r2c',\n '_foreach_abs',\n '_foreach_abs_',\n '_foreach_acos',\n '_foreach_acos_',\n '_foreach_add',\n '_foreach_add_',\n '_foreach_addcdiv',\n '_foreach_addcdiv_',\n '_foreach_addcmul',\n '_foreach_addcmul_',\n '_foreach_asin',\n '_foreach_asin_',\n '_foreach_atan',\n '_foreach_atan_',\n '_foreach_ceil',\n '_foreach_ceil_',\n '_foreach_cos',\n '_foreach_cos_',\n '_foreach_cosh',\n '_foreach_cosh_',\n '_foreach_div',\n '_foreach_div_',\n '_foreach_erf',\n '_foreach_erf_',\n '_foreach_erfc',\n '_foreach_erfc_',\n '_foreach_exp',\n '_foreach_exp_',\n '_foreach_expm1',\n '_foreach_expm1_',\n '_foreach_floor',\n '_foreach_floor_',\n '_foreach_frac',\n '_foreach_frac_',\n '_foreach_lgamma',\n '_foreach_lgamma_',\n '_foreach_log',\n '_foreach_log10',\n '_foreach_log10_',\n '_foreach_log1p',\n '_foreach_log1p_',\n '_foreach_log2',\n '_foreach_log2_',\n '_foreach_log_',\n '_foreach_maximum',\n '_foreach_minimum',\n '_foreach_mul',\n '_foreach_mul_',\n '_foreach_neg',\n '_foreach_neg_',\n '_foreach_norm',\n '_foreach_reciprocal',\n '_foreach_reciprocal_',\n '_foreach_round',\n '_foreach_round_',\n '_foreach_sigmoid',\n '_foreach_sigmoid_',\n '_foreach_sin',\n '_foreach_sin_',\n '_foreach_sinh',\n '_foreach_sinh_',\n '_foreach_sqrt',\n '_foreach_sqrt_',\n '_foreach_sub',\n '_foreach_sub_',\n '_foreach_tan',\n '_foreach_tan_',\n '_foreach_tanh',\n '_foreach_tanh_',\n '_foreach_trunc',\n '_foreach_trunc_',\n '_foreach_zero_',\n '_from_functional_tensor',\n '_fused_dropout',\n '_fused_moving_avg_obs_fq_helper',\n '_fw_primal_copy',\n '_grid_sampler_2d_cpu_fallback',\n '_has_compatible_shallow_copy_type',\n '_histogramdd_bin_edges',\n '_histogramdd_from_bin_cts',\n '_histogramdd_from_bin_tensors',\n '_import_dotted_name',\n '_index_put_impl_',\n '_indices_copy',\n '_initExtension',\n '_is_functional_tensor',\n '_is_zerotensor',\n '_jit_internal',\n '_linalg_check_errors',\n '_linalg_inv_out_helper_',\n '_linalg_qr_helper',\n '_linalg_svd',\n '_linalg_utils',\n '_load_global_deps',\n '_lobpcg',\n '_log_softmax',\n '_log_softmax_backward_data',\n '_logcumsumexp',\n '_lowrank',\n '_lstm_mps',\n '_lu_with_info',\n '_make_dual',\n '_make_dual_copy',\n '_make_per_channel_quantized_tensor',\n '_make_per_tensor_quantized_tensor',\n '_masked',\n '_masked_scale',\n '_masked_softmax',\n '_meta_registrations',\n '_mkldnn',\n '_mkldnn_reshape',\n '_mkldnn_transpose',\n '_mkldnn_transpose_',\n '_mps_convolution',\n '_mps_convolution_transpose',\n '_mps_linear_backward_weights',\n '_mps_max_pool2d',\n '_namedtensor_internals',\n '_native_multi_head_attention',\n '_neg_view',\n '_neg_view_copy',\n '_nested_from_padded',\n '_nested_from_padded_and_nested_example',\n '_nested_tensor_from_mask',\n '_nnpack_available',\n '_nnpack_spatial_convolution',\n '_ops',\n '_pack_padded_sequence',\n '_pad_packed_sequence',\n '_pin_memory',\n '_prims',\n '_register_device_module',\n '_remove_batch_dim',\n '_reshape_alias_copy',\n '_reshape_from_tensor',\n '_resize_output_',\n '_rowwise_prune',\n '_sample_dirichlet',\n '_saturate_weight_to_fp16',\n '_shape_as_tensor',\n '_six',\n '_sobol_engine_draw',\n '_sobol_engine_ff_',\n '_sobol_engine_initialize_state_',\n '_sobol_engine_scramble_',\n '_softmax',\n '_softmax_backward_data',\n '_sources',\n '_sparse_broadcast_to',\n '_sparse_broadcast_to_copy',\n '_sparse_bsc_tensor_unsafe',\n '_sparse_bsr_tensor_unsafe',\n '_sparse_compressed_tensor_unsafe',\n '_sparse_coo_tensor_unsafe',\n '_sparse_csc_tensor_unsafe',\n '_sparse_csr_prod',\n '_sparse_csr_sum',\n '_sparse_csr_tensor_unsafe',\n '_sparse_log_softmax_backward_data',\n '_sparse_mask_helper',\n '_sparse_softmax_backward_data',\n '_sparse_sparse_matmul',\n '_sparse_sum',\n '_stack',\n '_standard_gamma',\n '_standard_gamma_grad',\n '_storage_classes',\n '_string_classes',\n '_sync',\n '_tensor',\n '_tensor_classes',\n '_tensor_str',\n '_test_serialization_subcmul',\n '_to_cpu',\n '_to_functional_tensor',\n '_torch_cuda_cu_linker_symbol_op',\n '_transform_bias_rescale_qkv',\n '_transformer_encoder_layer_fwd',\n '_trilinear',\n '_unique',\n '_unique2',\n '_unpack_dual',\n '_use_cudnn_ctc_loss',\n '_use_cudnn_rnn_flatten_weight',\n '_utils',\n '_utils_internal',\n '_validate_sparse_bsc_tensor_args',\n '_validate_sparse_bsr_tensor_args',\n '_validate_sparse_compressed_tensor_args',\n '_validate_sparse_coo_tensor_args',\n '_validate_sparse_csc_tensor_args',\n '_validate_sparse_csr_tensor_args',\n '_values_copy',\n '_vmap_internals',\n '_weight_norm',\n '_weight_norm_interface',\n 'abs',\n 'abs_',\n 'absolute',\n 'acos',\n 'acos_',\n 'acosh',\n 'acosh_',\n 'adaptive_avg_pool1d',\n 'adaptive_max_pool1d',\n 'add',\n 'addbmm',\n 'addcdiv',\n 'addcmul',\n 'addmm',\n 'addmv',\n 'addmv_',\n 'addr',\n 'adjoint',\n 'affine_grid_generator',\n 'alias_copy',\n 'align_tensors',\n 'all',\n 'allclose',\n 'alpha_dropout',\n 'alpha_dropout_',\n 'amax',\n 'amin',\n 'aminmax',\n 'amp',\n 'angle',\n 'any',\n 'ao',\n 'arange',\n 'arccos',\n 'arccos_',\n 'arccosh',\n 'arccosh_',\n 'arcsin',\n 'arcsin_',\n 'arcsinh',\n 'arcsinh_',\n 'arctan',\n 'arctan2',\n 'arctan_',\n 'arctanh',\n 'arctanh_',\n 'are_deterministic_algorithms_enabled',\n 'argmax',\n 'argmin',\n 'argsort',\n 'argwhere',\n 'as_strided',\n 'as_strided_',\n 'as_strided_copy',\n 'as_tensor',\n 'asarray',\n 'asin',\n 'asin_',\n 'asinh',\n 'asinh_',\n 'atan',\n 'atan2',\n 'atan_',\n 'atanh',\n 'atanh_',\n 'atleast_1d',\n 'atleast_2d',\n 'atleast_3d',\n 'attr',\n 'autocast',\n 'autocast_decrement_nesting',\n 'autocast_increment_nesting',\n 'autograd',\n 'avg_pool1d',\n 'backends',\n 'baddbmm',\n 'bartlett_window',\n 'base_py_dll_path',\n 'batch_norm',\n 'batch_norm_backward_elemt',\n 'batch_norm_backward_reduce',\n 'batch_norm_elemt',\n 'batch_norm_gather_stats',\n 'batch_norm_gather_stats_with_counts',\n 'batch_norm_stats',\n 'batch_norm_update_stats',\n 'bernoulli',\n 'bfloat16',\n 'bilinear',\n 'binary_cross_entropy_with_logits',\n 'bincount',\n 'binomial',\n 'bitwise_and',\n 'bitwise_left_shift',\n 'bitwise_not',\n 'bitwise_or',\n 'bitwise_right_shift',\n 'bitwise_xor',\n 'blackman_window',\n 'block_diag',\n 'bmm',\n 'bool',\n 'broadcast_shapes',\n 'broadcast_tensors',\n 'broadcast_to',\n 'bucketize',\n 'builtins',\n 'can_cast',\n 'candidate',\n 'cartesian_prod',\n 'cat',\n 'ccol_indices_copy',\n 'cdist',\n 'cdouble',\n 'ceil',\n 'ceil_',\n 'celu',\n 'celu_',\n 'cfloat',\n 'chain_matmul',\n 'chalf',\n 'channel_shuffle',\n 'channels_last',\n 'channels_last_3d',\n 'cholesky',\n 'cholesky_inverse',\n 'cholesky_solve',\n 'choose_qparams_optimized',\n 'chunk',\n 'clamp',\n 'clamp_',\n 'clamp_max',\n 'clamp_max_',\n 'clamp_min',\n 'clamp_min_',\n 'classes',\n 'classproperty',\n 'clear_autocast_cache',\n 'clip',\n 'clip_',\n 'clone',\n 'col_indices_copy',\n 'column_stack',\n 'combinations',\n 'compiled_with_cxx11_abi',\n 'complex',\n 'complex128',\n 'complex32',\n 'complex64',\n 'concat',\n 'conj',\n 'conj_physical',\n 'conj_physical_',\n 'constant_pad_nd',\n 'contiguous_format',\n 'conv1d',\n 'conv2d',\n 'conv3d',\n 'conv_tbc',\n 'conv_transpose1d',\n 'conv_transpose2d',\n 'conv_transpose3d',\n 'convolution',\n 'copysign',\n 'corrcoef',\n 'cos',\n 'cos_',\n 'cosh',\n 'cosh_',\n 'cosine_embedding_loss',\n 'cosine_similarity',\n 'count_nonzero',\n 'cov',\n 'cpp',\n 'cpu',\n 'cross',\n 'crow_indices_copy',\n 'ctc_loss',\n 'ctypes',\n 'cuda',\n 'cuda_path',\n 'cuda_version',\n 'cudnn_affine_grid_generator',\n 'cudnn_batch_norm',\n 'cudnn_convolution',\n 'cudnn_convolution_add_relu',\n 'cudnn_convolution_relu',\n 'cudnn_convolution_transpose',\n 'cudnn_grid_sampler',\n 'cudnn_is_acceptable',\n 'cummax',\n 'cummin',\n 'cumprod',\n 'cumsum',\n 'cumulative_trapezoid',\n 'default_generator',\n 'deg2rad',\n 'deg2rad_',\n 'dequantize',\n 'det',\n 'detach',\n 'detach_',\n 'detach_copy',\n 'device',\n 'diag',\n 'diag_embed',\n 'diagflat',\n 'diagonal',\n 'diagonal_copy',\n 'diagonal_scatter',\n 'diff',\n 'digamma',\n 'dist',\n 'distributed',\n 'distributions',\n 'div',\n 'divide',\n 'dll',\n 'dll_path',\n 'dll_paths',\n 'dlls',\n 'dot',\n 'double',\n 'dropout',\n 'dropout_',\n 'dsmm',\n 'dsplit',\n 'dstack',\n 'dtype',\n 'e',\n 'eig',\n 'einsum',\n 'embedding',\n 'embedding_bag',\n 'embedding_renorm_',\n 'empty',\n 'empty_like',\n 'empty_quantized',\n 'empty_strided',\n 'enable_grad',\n 'eq',\n 'equal',\n 'erf',\n 'erf_',\n 'erfc',\n 'erfc_',\n 'erfinv',\n 'exp',\n 'exp2',\n 'exp2_',\n 'exp_',\n 'expand_copy',\n 'expm1',\n 'expm1_',\n 'eye',\n 'fake_quantize_per_channel_affine',\n 'fake_quantize_per_tensor_affine',\n 'fbgemm_linear_fp16_weight',\n 'fbgemm_linear_fp16_weight_fp32_activation',\n 'fbgemm_linear_int8_weight',\n 'fbgemm_linear_int8_weight_fp32_activation',\n 'fbgemm_linear_quantize_weight',\n 'fbgemm_pack_gemm_matrix_fp16',\n 'fbgemm_pack_quantized_matrix',\n 'feature_alpha_dropout',\n 'feature_alpha_dropout_',\n 'feature_dropout',\n 'feature_dropout_',\n 'fft',\n 'fill',\n 'fill_',\n 'finfo',\n 'fix',\n 'fix_',\n 'flatten',\n 'flip',\n 'fliplr',\n 'flipud',\n 'float',\n 'float16',\n 'float32',\n 'float64',\n 'float_power',\n 'floor',\n 'floor_',\n 'floor_divide',\n 'fmax',\n 'fmin',\n 'fmod',\n 'fork',\n 'frac',\n 'frac_',\n 'frexp',\n 'frobenius_norm',\n 'from_dlpack',\n 'from_file',\n 'from_numpy',\n 'frombuffer',\n 'full',\n 'full_like',\n 'functional',\n 'fused_moving_avg_obs_fake_quant',\n 'futures',\n 'gather',\n 'gcd',\n 'gcd_',\n 'ge',\n 'geqrf',\n 'ger',\n 'get_autocast_cpu_dtype',\n 'get_autocast_gpu_dtype',\n 'get_default_dtype',\n 'get_deterministic_debug_mode',\n 'get_device',\n 'get_file_path',\n 'get_float32_matmul_precision',\n 'get_num_interop_threads',\n 'get_num_threads',\n 'get_rng_state',\n 'glob',\n 'gradient',\n 'greater',\n 'greater_equal',\n 'grid_sampler',\n 'grid_sampler_2d',\n 'grid_sampler_3d',\n 'group_norm',\n 'gru',\n 'gru_cell',\n 'gt',\n 'half',\n 'hamming_window',\n 'hann_window',\n 'hardshrink',\n 'has_cuda',\n 'has_cudnn',\n 'has_lapack',\n 'has_mkl',\n 'has_mkldnn',\n 'has_mps',\n 'has_openmp',\n 'has_spectral',\n 'heaviside',\n 'hinge_embedding_loss',\n 'histc',\n 'histogram',\n 'histogramdd',\n 'hsmm',\n 'hsplit',\n 'hspmm',\n 'hstack',\n 'hub',\n 'hypot',\n 'i0',\n 'i0_',\n 'igamma',\n 'igammac',\n 'iinfo',\n 'imag',\n 'import_ir_module',\n 'import_ir_module_from_buffer',\n 'index_add',\n 'index_copy',\n 'index_fill',\n 'index_put',\n 'index_put_',\n 'index_reduce',\n 'index_select',\n 'indices_copy',\n 'inf',\n 'inference_mode',\n 'init_num_threads',\n 'initial_seed',\n 'inner',\n 'inspect',\n 'instance_norm',\n 'int',\n 'int16',\n 'int32',\n 'int64',\n 'int8',\n 'int_repr',\n 'inverse',\n 'is_anomaly_enabled',\n 'is_autocast_cache_enabled',\n 'is_autocast_cpu_enabled',\n 'is_autocast_enabled',\n 'is_complex',\n 'is_conj',\n 'is_deterministic_algorithms_warn_only_enabled',\n 'is_distributed',\n 'is_floating_point',\n 'is_grad_enabled',\n 'is_inference',\n 'is_inference_mode_enabled',\n 'is_loaded',\n 'is_neg',\n 'is_nonzero',\n 'is_same_size',\n 'is_signed',\n 'is_storage',\n 'is_tensor',\n 'is_vulkan_available',\n 'is_warn_always_enabled',\n 'isclose',\n 'isfinite',\n 'isin',\n 'isinf',\n 'isnan',\n 'isneginf',\n 'isposinf',\n 'isreal',\n 'istft',\n 'jit',\n 'kaiser_window',\n 'kernel32',\n 'kl_div',\n 'kron',\n 'kthvalue',\n 'last_error',\n 'layer_norm',\n 'layout',\n 'lcm',\n 'lcm_',\n 'ldexp',\n 'ldexp_',\n 'le',\n 'legacy_contiguous_format',\n 'lerp',\n 'less',\n 'less_equal',\n 'lgamma',\n 'library',\n 'linalg',\n 'linspace',\n 'load',\n 'lobpcg',\n 'log',\n 'log10',\n 'log10_',\n 'log1p',\n 'log1p_',\n 'log2',\n 'log2_',\n 'log_',\n 'log_softmax',\n 'logaddexp',\n 'logaddexp2',\n 'logcumsumexp',\n 'logdet',\n 'logical_and',\n 'logical_not',\n 'logical_or',\n 'logical_xor',\n 'logit',\n 'logit_',\n 'logspace',\n 'logsumexp',\n 'long',\n 'lstm',\n 'lstm_cell',\n 'lstsq',\n 'lt',\n 'lu',\n 'lu_solve',\n 'lu_unpack',\n 'manual_seed',\n 'margin_ranking_loss',\n 'masked_fill',\n 'masked_scatter',\n 'masked_select',\n 'matmul',\n 'matrix_exp',\n 'matrix_power',\n 'matrix_rank',\n 'max',\n 'max_pool1d',\n 'max_pool1d_with_indices',\n 'max_pool2d',\n 'max_pool3d',\n 'maximum',\n 'mean',\n 'median',\n 'memory_format',\n 'merge_type_from_type_comment',\n 'meshgrid',\n 'min',\n 'minimum',\n 'miopen_batch_norm',\n 'miopen_convolution',\n 'miopen_convolution_transpose',\n 'miopen_depthwise_convolution',\n 'miopen_rnn',\n 'mkldnn_adaptive_avg_pool2d',\n 'mkldnn_convolution',\n 'mkldnn_linear_backward_weights',\n 'mkldnn_max_pool2d',\n 'mkldnn_max_pool3d',\n 'mm',\n 'mode',\n 'moveaxis',\n 'movedim',\n 'msort',\n 'mul',\n 'multinomial',\n 'multiply',\n 'multiprocessing',\n 'mv',\n 'mvlgamma',\n 'name',\n 'nan',\n 'nan_to_num',\n 'nan_to_num_',\n 'nanmean',\n 'nanmedian',\n 'nanquantile',\n 'nansum',\n 'narrow',\n 'narrow_copy',\n 'native_batch_norm',\n 'native_channel_shuffle',\n 'native_dropout',\n 'native_group_norm',\n 'native_layer_norm',\n 'native_norm',\n 'ne',\n 'neg',\n 'neg_',\n 'negative',\n 'negative_',\n 'nested_tensor',\n 'nextafter',\n 'nn',\n 'no_grad',\n 'nonzero',\n 'norm',\n 'norm_except_dim',\n 'normal',\n 'not_equal',\n 'nuclear_norm',\n 'numel',\n 'nvtoolsext_dll_path',\n 'obj',\n 'ones',\n 'ones_like',\n 'onnx',\n 'ops',\n 'optim',\n 'orgqr',\n 'ormqr',\n 'os',\n 'outer',\n 'overrides',\n 'package',\n 'pairwise_distance',\n 'parse_ir',\n 'parse_schema',\n 'parse_type_comment',\n 'path_patched',\n 'pca_lowrank',\n 'pdist',\n 'per_channel_affine',\n 'per_channel_affine_float_qparams',\n 'per_channel_symmetric',\n 'per_tensor_affine',\n 'per_tensor_symmetric',\n 'permute',\n 'permute_copy',\n 'pfiles_path',\n 'pi',\n 'pinverse',\n 'pixel_shuffle',\n 'pixel_unshuffle',\n 'platform',\n 'poisson',\n 'poisson_nll_loss',\n 'polar',\n 'polygamma',\n 'positive',\n 'pow',\n 'prelu',\n 'prepare_multiprocessing_environment',\n 'preserve_format',\n 'prev_error_mode',\n 'prod',\n 'profiler',\n 'promote_types',\n 'put',\n 'py_dll_path',\n 'q_per_channel_axis',\n 'q_per_channel_scales',\n 'q_per_channel_zero_points',\n ...]"
     },
     "execution_count": 3,
     "metadata": {},
     "output_type": "execute_result"
    }
   ],
   "source": [
    "dir(torch)"
   ],
   "metadata": {
    "collapsed": false,
    "ExecuteTime": {
     "end_time": "2023-07-04T21:34:00.723128500Z",
     "start_time": "2023-07-04T21:34:00.682957700Z"
    }
   }
  },
  {
   "cell_type": "code",
   "execution_count": 4,
   "outputs": [
    {
     "data": {
      "text/plain": "['Any',\n 'BFloat16Storage',\n 'BFloat16Tensor',\n 'BoolStorage',\n 'BoolTensor',\n 'ByteStorage',\n 'ByteTensor',\n 'CUDAGraph',\n 'CharStorage',\n 'CharTensor',\n 'ComplexDoubleStorage',\n 'ComplexFloatStorage',\n 'CudaError',\n 'DeferredCudaCallError',\n 'Device',\n 'DoubleStorage',\n 'DoubleTensor',\n 'Event',\n 'ExternalStream',\n 'FloatStorage',\n 'FloatTensor',\n 'HalfStorage',\n 'HalfTensor',\n 'IntStorage',\n 'IntTensor',\n 'List',\n 'LongStorage',\n 'LongTensor',\n 'Optional',\n 'ShortStorage',\n 'ShortTensor',\n 'Stream',\n 'StreamContext',\n 'Tuple',\n 'Union',\n '_CudaBase',\n '_CudaDeviceProperties',\n '_LazySeedTracker',\n '__annotations__',\n '__builtins__',\n '__cached__',\n '__doc__',\n '__file__',\n '__loader__',\n '__name__',\n '__package__',\n '__path__',\n '__spec__',\n '_check_capability',\n '_check_cubins',\n '_cudart',\n '_device',\n '_device_t',\n '_dummy_type',\n '_get_device_index',\n '_initialization_lock',\n '_initialized',\n '_is_in_bad_fork',\n '_lazy_call',\n '_lazy_init',\n '_lazy_new',\n '_lazy_seed_tracker',\n '_queued_calls',\n '_sleep',\n '_tls',\n '_utils',\n 'amp',\n 'caching_allocator_alloc',\n 'caching_allocator_delete',\n 'can_device_access_peer',\n 'check_error',\n 'classproperty',\n 'contextlib',\n 'cudaStatus',\n 'cudart',\n 'current_blas_handle',\n 'current_device',\n 'current_stream',\n 'default_generators',\n 'default_stream',\n 'device',\n 'device_count',\n 'device_of',\n 'empty_cache',\n 'get_arch_list',\n 'get_device_capability',\n 'get_device_name',\n 'get_device_properties',\n 'get_gencode_flags',\n 'get_rng_state',\n 'get_rng_state_all',\n 'get_sync_debug_mode',\n 'graph',\n 'graph_pool_handle',\n 'graphs',\n 'has_half',\n 'has_magma',\n 'init',\n 'initial_seed',\n 'ipc_collect',\n 'is_available',\n 'is_bf16_supported',\n 'is_current_stream_capturing',\n 'is_initialized',\n 'jiterator',\n 'list_gpu_processes',\n 'make_graphed_callables',\n 'manual_seed',\n 'manual_seed_all',\n 'max_memory_allocated',\n 'max_memory_cached',\n 'max_memory_reserved',\n 'mem_get_info',\n 'memory',\n 'memory_allocated',\n 'memory_cached',\n 'memory_reserved',\n 'memory_snapshot',\n 'memory_stats',\n 'memory_stats_as_nested_dict',\n 'memory_summary',\n 'memory_usage',\n 'nccl',\n 'nvtx',\n 'os',\n 'profiler',\n 'random',\n 'reset_accumulated_memory_stats',\n 'reset_max_memory_allocated',\n 'reset_max_memory_cached',\n 'reset_peak_memory_stats',\n 'seed',\n 'seed_all',\n 'set_device',\n 'set_per_process_memory_fraction',\n 'set_rng_state',\n 'set_rng_state_all',\n 'set_stream',\n 'set_sync_debug_mode',\n 'sparse',\n 'stream',\n 'streams',\n 'synchronize',\n 'threading',\n 'torch',\n 'traceback',\n 'utilization',\n 'warnings']"
     },
     "execution_count": 4,
     "metadata": {},
     "output_type": "execute_result"
    }
   ],
   "source": [
    "dir(torch.cuda)"
   ],
   "metadata": {
    "collapsed": false,
    "ExecuteTime": {
     "end_time": "2023-07-04T21:36:47.432588900Z",
     "start_time": "2023-07-04T21:36:47.426235300Z"
    }
   }
  },
  {
   "cell_type": "code",
   "execution_count": 5,
   "outputs": [
    {
     "data": {
      "text/plain": "['__abs__',\n '__add__',\n '__and__',\n '__bool__',\n '__ceil__',\n '__class__',\n '__delattr__',\n '__dir__',\n '__divmod__',\n '__doc__',\n '__eq__',\n '__float__',\n '__floor__',\n '__floordiv__',\n '__format__',\n '__ge__',\n '__getattribute__',\n '__getnewargs__',\n '__gt__',\n '__hash__',\n '__index__',\n '__init__',\n '__init_subclass__',\n '__int__',\n '__invert__',\n '__le__',\n '__lshift__',\n '__lt__',\n '__mod__',\n '__mul__',\n '__ne__',\n '__neg__',\n '__new__',\n '__or__',\n '__pos__',\n '__pow__',\n '__radd__',\n '__rand__',\n '__rdivmod__',\n '__reduce__',\n '__reduce_ex__',\n '__repr__',\n '__rfloordiv__',\n '__rlshift__',\n '__rmod__',\n '__rmul__',\n '__ror__',\n '__round__',\n '__rpow__',\n '__rrshift__',\n '__rshift__',\n '__rsub__',\n '__rtruediv__',\n '__rxor__',\n '__setattr__',\n '__sizeof__',\n '__str__',\n '__sub__',\n '__subclasshook__',\n '__truediv__',\n '__trunc__',\n '__xor__',\n 'bit_length',\n 'conjugate',\n 'denominator',\n 'from_bytes',\n 'imag',\n 'numerator',\n 'real',\n 'to_bytes']"
     },
     "execution_count": 5,
     "metadata": {},
     "output_type": "execute_result"
    }
   ],
   "source": [
    "dir(torch.cuda.is_available())"
   ],
   "metadata": {
    "collapsed": false,
    "ExecuteTime": {
     "end_time": "2023-07-04T21:37:16.607273100Z",
     "start_time": "2023-07-04T21:37:16.603270Z"
    }
   }
  },
  {
   "cell_type": "markdown",
   "source": [
    "__ __是一种规范，magic methods,help方法其中函数()去掉help"
   ],
   "metadata": {
    "collapsed": false
   }
  },
  {
   "cell_type": "code",
   "execution_count": 6,
   "outputs": [
    {
     "name": "stdout",
     "output_type": "stream",
     "text": [
      "Help on function is_available in module torch.cuda:\n",
      "\n",
      "is_available() -> bool\n",
      "    Returns a bool indicating if CUDA is currently available.\n",
      "\n"
     ]
    }
   ],
   "source": [
    "help(torch.cuda.is_available)"
   ],
   "metadata": {
    "collapsed": false,
    "ExecuteTime": {
     "end_time": "2023-07-04T21:38:29.863645400Z",
     "start_time": "2023-07-04T21:38:29.852159700Z"
    }
   }
  }
 ],
 "metadata": {
  "kernelspec": {
   "display_name": "Python 3",
   "language": "python",
   "name": "python3"
  },
  "language_info": {
   "codemirror_mode": {
    "name": "ipython",
    "version": 2
   },
   "file_extension": ".py",
   "mimetype": "text/x-python",
   "name": "python",
   "nbconvert_exporter": "python",
   "pygments_lexer": "ipython2",
   "version": "2.7.6"
  }
 },
 "nbformat": 4,
 "nbformat_minor": 0
}
